{
 "cells": [
  {
   "cell_type": "code",
   "execution_count": null,
   "source": [
    "#%%appyter init\n",
    "from appyter import magic\n",
    "magic.init(lambda _=globals: _())"
   ],
   "outputs": [],
   "metadata": {}
  },
  {
   "cell_type": "code",
   "execution_count": null,
   "source": [
    "%%appyter hide\n",
    "\n",
    "{% do SectionField(\n",
    "    title='FASTQ file',\n",
    "    subtitle='Choose a path to a fastq file.',\n",
    "    name='FASTQ',\n",
    "    img='enrichr-icon.png',\n",
    ") %}\n",
    "\n",
    "{% set gene_symbol = StringField(\n",
    "    name='fastq_file',\n",
    "    label='FASTQ',\n",
    "    default='path/file.fastq',\n",
    "    description='Enter path to FASTQ file.',\n",
    "    section = 'FASTQ') %}\n",
    "\n",
    "{% do SectionField(\n",
    "    title='Aligner',\n",
    "    subtitle='Select alignment algorithm.',\n",
    "    name='ALIGNER',\n",
    "    img='aligner.png',\n",
    ") %}\n",
    "\n",
    "{% set gmt_field = TabField(\n",
    "    name='aligner_field',\n",
    "    label='Alignment Algorithm',\n",
    "    default='Select',\n",
    "    description='Select alignment algorithm',\n",
    "    choices={\n",
    "        'Select': [\n",
    "            ChoiceField(\n",
    "                name='aligner_select',\n",
    "                label='Aligner',\n",
    "                description='Select alignment algorithm.',\n",
    "                default='Kallisto',\n",
    "                choices=[\"Kallisto\", \"Salmon\"],\n",
    "                section='ALIGNER'\n",
    "            )\n",
    "        ]\n",
    "    }) %}\n",
    "\n",
    "%%appyter markdown\n",
    "\n",
    "<h1> <img align=\"left\" width=200 src=\"https://mssm-prismx.s3.amazonaws.com/images/prismxsmall.png\">\n",
    "        <div>PrismEXP</div>\n",
    "</h1>\n",
    "    <br>\n",
    "    <div>An appyter interface to compute gene function predictions <br>\n",
    "    <div> This Appyter calculates predictions using the PrismEXP algorithm. It utilizes precomputed correlation scores and a pretrained model. The correlation scores are computed for 51 gene expression clusters in ARCHS4.\n",
    "    <br><br>\n",
    "    <div style=\"font-size: 20px;\"><img style=\"height: 40px; float:left; margin-top:-7px;\" src=\"{{ url_for('static', filename='gene.png') }}\" /> {{ gene_symbol }} </div>\n",
    "    <br>\n",
    "    <div style=\"font-size: 20px;\"><img style=\"height: 40px; float: left; margin-top:-7px;\" src=\"{{ url_for('static', filename='library.png') }}\" /> '{{ gmt_field.value[0].value }}'</div>"
   ],
   "outputs": [],
   "metadata": {}
  },
  {
   "cell_type": "code",
   "execution_count": 1,
   "source": [
    "%%capture\n",
    "!pip3 install git+https://github.com/MaayanLab/xalign.git"
   ],
   "outputs": [],
   "metadata": {}
  },
  {
   "cell_type": "code",
   "execution_count": 2,
   "source": [
    "import xalign\n",
    "import time"
   ],
   "outputs": [],
   "metadata": {}
  },
  {
   "cell_type": "code",
   "execution_count": 4,
   "source": [
    "st = time.time()\n",
    "res_kallisto = xalign.align_fastq(\"kallisto\", \"homo_sapiens\", \"/usr/local/lib/python3.8/site-packages/xalign/data/SRR16201395.fastq\", t=8, overwrite=False)\n",
    "time.time() - st"
   ],
   "outputs": [
    {
     "output_type": "stream",
     "name": "stdout",
     "text": [
      "Download fastq.gz\n",
      "/usr/local/lib/python3.8/site-packages/xalign/data/\n",
      "darwin\n",
      "Index already exists. Use overwrite to rebuild.\n",
      "Align with kallisto (single strand).\n"
     ]
    },
    {
     "output_type": "execute_result",
     "data": {
      "text/plain": [
       "96.12139081954956"
      ]
     },
     "metadata": {},
     "execution_count": 4
    }
   ],
   "metadata": {}
  },
  {
   "cell_type": "code",
   "execution_count": 10,
   "source": [
    "res_kallisto"
   ],
   "outputs": [
    {
     "output_type": "execute_result",
     "data": {
      "text/html": [
       "<div>\n",
       "<style scoped>\n",
       "    .dataframe tbody tr th:only-of-type {\n",
       "        vertical-align: middle;\n",
       "    }\n",
       "\n",
       "    .dataframe tbody tr th {\n",
       "        vertical-align: top;\n",
       "    }\n",
       "\n",
       "    .dataframe thead th {\n",
       "        text-align: right;\n",
       "    }\n",
       "</style>\n",
       "<table border=\"1\" class=\"dataframe\">\n",
       "  <thead>\n",
       "    <tr style=\"text-align: right;\">\n",
       "      <th></th>\n",
       "      <th>target_id</th>\n",
       "      <th>length</th>\n",
       "      <th>eff_length</th>\n",
       "      <th>est_counts</th>\n",
       "      <th>tpm</th>\n",
       "    </tr>\n",
       "  </thead>\n",
       "  <tbody>\n",
       "    <tr>\n",
       "      <th>0</th>\n",
       "      <td>ENST00000631435.1</td>\n",
       "      <td>12</td>\n",
       "      <td>2.60424</td>\n",
       "      <td>0.0000</td>\n",
       "      <td>0.000000</td>\n",
       "    </tr>\n",
       "    <tr>\n",
       "      <th>1</th>\n",
       "      <td>ENST00000415118.1</td>\n",
       "      <td>8</td>\n",
       "      <td>2.48058</td>\n",
       "      <td>0.0000</td>\n",
       "      <td>0.000000</td>\n",
       "    </tr>\n",
       "    <tr>\n",
       "      <th>2</th>\n",
       "      <td>ENST00000448914.1</td>\n",
       "      <td>13</td>\n",
       "      <td>2.62202</td>\n",
       "      <td>0.0000</td>\n",
       "      <td>0.000000</td>\n",
       "    </tr>\n",
       "    <tr>\n",
       "      <th>3</th>\n",
       "      <td>ENST00000434970.2</td>\n",
       "      <td>9</td>\n",
       "      <td>2.52391</td>\n",
       "      <td>0.0000</td>\n",
       "      <td>0.000000</td>\n",
       "    </tr>\n",
       "    <tr>\n",
       "      <th>4</th>\n",
       "      <td>ENST00000632684.1</td>\n",
       "      <td>12</td>\n",
       "      <td>2.60424</td>\n",
       "      <td>0.0000</td>\n",
       "      <td>0.000000</td>\n",
       "    </tr>\n",
       "    <tr>\n",
       "      <th>...</th>\n",
       "      <td>...</td>\n",
       "      <td>...</td>\n",
       "      <td>...</td>\n",
       "      <td>...</td>\n",
       "      <td>...</td>\n",
       "    </tr>\n",
       "    <tr>\n",
       "      <th>199235</th>\n",
       "      <td>ENST00000621768.1</td>\n",
       "      <td>822</td>\n",
       "      <td>623.00000</td>\n",
       "      <td>0.0000</td>\n",
       "      <td>0.000000</td>\n",
       "    </tr>\n",
       "    <tr>\n",
       "      <th>199236</th>\n",
       "      <td>ENST00000438396.1</td>\n",
       "      <td>882</td>\n",
       "      <td>683.00000</td>\n",
       "      <td>0.0000</td>\n",
       "      <td>0.000000</td>\n",
       "    </tr>\n",
       "    <tr>\n",
       "      <th>199237</th>\n",
       "      <td>ENST00000457982.3</td>\n",
       "      <td>2291</td>\n",
       "      <td>2092.00000</td>\n",
       "      <td>46.5861</td>\n",
       "      <td>0.706581</td>\n",
       "    </tr>\n",
       "    <tr>\n",
       "      <th>199238</th>\n",
       "      <td>ENST00000426884.1</td>\n",
       "      <td>112</td>\n",
       "      <td>4.70392</td>\n",
       "      <td>0.0000</td>\n",
       "      <td>0.000000</td>\n",
       "    </tr>\n",
       "    <tr>\n",
       "      <th>199239</th>\n",
       "      <td>ENST00000624828.1</td>\n",
       "      <td>1351</td>\n",
       "      <td>1152.00000</td>\n",
       "      <td>0.0000</td>\n",
       "      <td>0.000000</td>\n",
       "    </tr>\n",
       "  </tbody>\n",
       "</table>\n",
       "<p>199240 rows × 5 columns</p>\n",
       "</div>"
      ],
      "text/plain": [
       "                target_id  length  eff_length  est_counts       tpm\n",
       "0       ENST00000631435.1      12     2.60424      0.0000  0.000000\n",
       "1       ENST00000415118.1       8     2.48058      0.0000  0.000000\n",
       "2       ENST00000448914.1      13     2.62202      0.0000  0.000000\n",
       "3       ENST00000434970.2       9     2.52391      0.0000  0.000000\n",
       "4       ENST00000632684.1      12     2.60424      0.0000  0.000000\n",
       "...                   ...     ...         ...         ...       ...\n",
       "199235  ENST00000621768.1     822   623.00000      0.0000  0.000000\n",
       "199236  ENST00000438396.1     882   683.00000      0.0000  0.000000\n",
       "199237  ENST00000457982.3    2291  2092.00000     46.5861  0.706581\n",
       "199238  ENST00000426884.1     112     4.70392      0.0000  0.000000\n",
       "199239  ENST00000624828.1    1351  1152.00000      0.0000  0.000000\n",
       "\n",
       "[199240 rows x 5 columns]"
      ]
     },
     "metadata": {},
     "execution_count": 10
    }
   ],
   "metadata": {}
  },
  {
   "cell_type": "code",
   "execution_count": null,
   "source": [
    "st = time.time()\n",
    "fastqs = [\"/home/maayanlab/.local/lib/python3.8/site-packages/xalign/data/SRR15970899_1\", \"/home/maayanlab/.local/lib/python3.8/site-packages/xalign/data/SRR15970899_2.fastq\"]\n",
    "xalign.align_fastq(\"kallisto\", \"homo_sapiens\", \"/home/maayanlab/.local/lib/python3.8/site-packages/xalign/data/SRR16201395.fastq\", t=8, overwrite=False)\n",
    "time.time()-st"
   ],
   "outputs": [],
   "metadata": {}
  }
 ],
 "metadata": {
  "orig_nbformat": 4,
  "language_info": {
   "name": "python",
   "version": "3.8.5",
   "mimetype": "text/x-python",
   "codemirror_mode": {
    "name": "ipython",
    "version": 3
   },
   "pygments_lexer": "ipython3",
   "nbconvert_exporter": "python",
   "file_extension": ".py"
  },
  "kernelspec": {
   "name": "python3",
   "display_name": "Python 3.8.5 64-bit"
  },
  "interpreter": {
   "hash": "aee8b7b246df8f9039afb4144a1f6fd8d2ca17a180786b69acc140d282b71a49"
  }
 },
 "nbformat": 4,
 "nbformat_minor": 2
}